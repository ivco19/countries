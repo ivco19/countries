{
 "cells": [
  {
   "cell_type": "code",
   "execution_count": 53,
   "metadata": {},
   "outputs": [],
   "source": [
    "import numpy as np\n",
    "import pandas as pd\n",
    "import matplotlib.pyplot as plt\n",
    "import matplotlib.ticker as ticker\n",
    "import seaborn as sns\n",
    "import datetime\n",
    "# import plotly.express as px\n",
    "#import theme\n",
    "\n",
    "%matplotlib inline"
   ]
  },
  {
   "cell_type": "code",
   "execution_count": 70,
   "metadata": {},
   "outputs": [],
   "source": [
    "base_url = 'https://raw.githubusercontent.com/CSSEGISandData/COVID-19/master/csse_covid_19_data/csse_covid_19_time_series/'\n",
    "COVID_CONFIRMED_URL = base_url + 'time_series_covid19_confirmed_global.csv'\n",
    "covid_confirmed = pd.read_csv(COVID_CONFIRMED_URL)\n",
    "\n",
    "COVID_DEATHS_URL = base_url + 'time_series_covid19_deaths_global.csv'\n",
    "covid_deaths = pd.read_csv(COVID_DEATHS_URL)\n",
    "\n",
    "COVID_RECOVERED_URL = base_url + 'time_series_covid19_recovered_global.csv'\n",
    "covid_recovered = pd.read_csv(COVID_RECOVERED_URL)"
   ]
  },
  {
   "cell_type": "code",
   "execution_count": 71,
   "metadata": {},
   "outputs": [],
   "source": [
    "covid_confirmed_long = pd.melt(covid_confirmed,\n",
    "                               id_vars=covid_confirmed.iloc[:, :4],\n",
    "                               var_name='date',\n",
    "                               value_name='confirmed')\n",
    "\n",
    "covid_deaths_long = pd.melt(covid_deaths,\n",
    "                               id_vars=covid_deaths.iloc[:, :4],\n",
    "                               var_name='date',\n",
    "                               value_name='deaths')\n",
    "\n",
    "covid_recovered_long = pd.melt(covid_recovered,\n",
    "                               id_vars=covid_recovered.iloc[:, :4],\n",
    "                               var_name='date',\n",
    "                               value_name='recovered')"
   ]
  },
  {
   "cell_type": "code",
   "execution_count": 72,
   "metadata": {},
   "outputs": [],
   "source": [
    "covid_df = covid_confirmed_long\n",
    "covid_df['deaths'] = covid_deaths_long['deaths']\n",
    "covid_df['recovered'] = covid_recovered_long['recovered']\n",
    "covid_df['active'] = covid_df['confirmed'] - covid_df['deaths'] - covid_df['recovered']"
   ]
  },
  {
   "cell_type": "code",
   "execution_count": 73,
   "metadata": {},
   "outputs": [],
   "source": [
    "covid_df['Country/Region'].replace('Mainland China', 'China', inplace=True)\n",
    "covid_df[['Province/State']] = covid_df[['Province/State']].fillna('')\n",
    "covid_df.fillna(0, inplace=True)"
   ]
  },
  {
   "cell_type": "code",
   "execution_count": 74,
   "metadata": {},
   "outputs": [],
   "source": [
    "covid_df.to_csv('covid_df.csv', index=None)"
   ]
  },
  {
   "cell_type": "markdown",
   "metadata": {},
   "source": [
    "## data loaded from here"
   ]
  },
  {
   "cell_type": "code",
   "execution_count": 274,
   "metadata": {},
   "outputs": [],
   "source": [
    "covid_df = pd.read_csv('covid_df.csv')\n",
    "df_world = pd.read_csv('../dat/pop_area.csv')"
   ]
  },
  {
   "cell_type": "code",
   "execution_count": 275,
   "metadata": {},
   "outputs": [],
   "source": [
    "covid_countries_df = covid_df.groupby(['Country/Region', 'Province/State']).max().reset_index()\n",
    "covid_countries_df = covid_countries_df.groupby('Country/Region').sum().reset_index()\n",
    "covid_countries_df.drop(['Lat', 'Long'], axis=1, inplace=True)"
   ]
  },
  {
   "cell_type": "code",
   "execution_count": 276,
   "metadata": {},
   "outputs": [
    {
     "data": {
      "text/html": [
       "<div>\n",
       "<style scoped>\n",
       "    .dataframe tbody tr th:only-of-type {\n",
       "        vertical-align: middle;\n",
       "    }\n",
       "\n",
       "    .dataframe tbody tr th {\n",
       "        vertical-align: top;\n",
       "    }\n",
       "\n",
       "    .dataframe thead th {\n",
       "        text-align: right;\n",
       "    }\n",
       "</style>\n",
       "<table border=\"1\" class=\"dataframe\">\n",
       "  <thead>\n",
       "    <tr style=\"text-align: right;\">\n",
       "      <th></th>\n",
       "      <th>Country/Region</th>\n",
       "      <th>confirmed</th>\n",
       "      <th>deaths</th>\n",
       "      <th>recovered</th>\n",
       "      <th>active</th>\n",
       "    </tr>\n",
       "  </thead>\n",
       "  <tbody>\n",
       "    <tr>\n",
       "      <th>0</th>\n",
       "      <td>Australia</td>\n",
       "      <td>5116</td>\n",
       "      <td>24</td>\n",
       "      <td>100700.0</td>\n",
       "      <td>4326.0</td>\n",
       "    </tr>\n",
       "    <tr>\n",
       "      <th>1</th>\n",
       "      <td>Canada</td>\n",
       "      <td>11284</td>\n",
       "      <td>139</td>\n",
       "      <td>231169.0</td>\n",
       "      <td>5878.0</td>\n",
       "    </tr>\n",
       "    <tr>\n",
       "      <th>2</th>\n",
       "      <td>China</td>\n",
       "      <td>82433</td>\n",
       "      <td>3322</td>\n",
       "      <td>248802.0</td>\n",
       "      <td>78746.0</td>\n",
       "    </tr>\n",
       "    <tr>\n",
       "      <th>3</th>\n",
       "      <td>Denmark</td>\n",
       "      <td>187</td>\n",
       "      <td>0</td>\n",
       "      <td>19985.0</td>\n",
       "      <td>154.0</td>\n",
       "    </tr>\n",
       "    <tr>\n",
       "      <th>4</th>\n",
       "      <td>France</td>\n",
       "      <td>824</td>\n",
       "      <td>11</td>\n",
       "      <td>74997.0</td>\n",
       "      <td>410.0</td>\n",
       "    </tr>\n",
       "    <tr>\n",
       "      <th>5</th>\n",
       "      <td>Netherlands</td>\n",
       "      <td>91</td>\n",
       "      <td>2</td>\n",
       "      <td>6208.0</td>\n",
       "      <td>54.0</td>\n",
       "    </tr>\n",
       "    <tr>\n",
       "      <th>6</th>\n",
       "      <td>United Kingdom</td>\n",
       "      <td>456</td>\n",
       "      <td>5</td>\n",
       "      <td>125071.0</td>\n",
       "      <td>201.0</td>\n",
       "    </tr>\n",
       "  </tbody>\n",
       "</table>\n",
       "</div>"
      ],
      "text/plain": [
       "   Country/Region  confirmed  deaths  recovered   active\n",
       "0       Australia       5116      24   100700.0   4326.0\n",
       "1          Canada      11284     139   231169.0   5878.0\n",
       "2           China      82433    3322   248802.0  78746.0\n",
       "3         Denmark        187       0    19985.0    154.0\n",
       "4          France        824      11    74997.0    410.0\n",
       "5     Netherlands         91       2     6208.0     54.0\n",
       "6  United Kingdom        456       5   125071.0    201.0"
      ]
     },
     "execution_count": 276,
     "metadata": {},
     "output_type": "execute_result"
    }
   ],
   "source": [
    "covid_countries_df"
   ]
  },
  {
   "cell_type": "code",
   "execution_count": 277,
   "metadata": {},
   "outputs": [
    {
     "data": {
      "text/html": [
       "<div>\n",
       "<style scoped>\n",
       "    .dataframe tbody tr th:only-of-type {\n",
       "        vertical-align: middle;\n",
       "    }\n",
       "\n",
       "    .dataframe tbody tr th {\n",
       "        vertical-align: top;\n",
       "    }\n",
       "\n",
       "    .dataframe thead th {\n",
       "        text-align: right;\n",
       "    }\n",
       "</style>\n",
       "<table border=\"1\" class=\"dataframe\">\n",
       "  <thead>\n",
       "    <tr style=\"text-align: right;\">\n",
       "      <th></th>\n",
       "      <th>Unnamed: 0</th>\n",
       "      <th>country</th>\n",
       "      <th>population</th>\n",
       "      <th>area</th>\n",
       "    </tr>\n",
       "  </thead>\n",
       "  <tbody>\n",
       "    <tr>\n",
       "      <th>0</th>\n",
       "      <td>0</td>\n",
       "      <td>India</td>\n",
       "      <td>1.366418e+09</td>\n",
       "      <td>3287263.0</td>\n",
       "    </tr>\n",
       "    <tr>\n",
       "      <th>1</th>\n",
       "      <td>1</td>\n",
       "      <td>US</td>\n",
       "      <td>3.290649e+08</td>\n",
       "      <td>9525067.0</td>\n",
       "    </tr>\n",
       "    <tr>\n",
       "      <th>2</th>\n",
       "      <td>2</td>\n",
       "      <td>Indonesia</td>\n",
       "      <td>2.706256e+08</td>\n",
       "      <td>1910931.0</td>\n",
       "    </tr>\n",
       "    <tr>\n",
       "      <th>3</th>\n",
       "      <td>3</td>\n",
       "      <td>Pakistan</td>\n",
       "      <td>2.165653e+08</td>\n",
       "      <td>907132.0</td>\n",
       "    </tr>\n",
       "    <tr>\n",
       "      <th>4</th>\n",
       "      <td>4</td>\n",
       "      <td>Brazil</td>\n",
       "      <td>2.110495e+08</td>\n",
       "      <td>8515767.0</td>\n",
       "    </tr>\n",
       "    <tr>\n",
       "      <th>...</th>\n",
       "      <td>...</td>\n",
       "      <td>...</td>\n",
       "      <td>...</td>\n",
       "      <td>...</td>\n",
       "    </tr>\n",
       "    <tr>\n",
       "      <th>165</th>\n",
       "      <td>165</td>\n",
       "      <td>Saint Kitts and Nevis</td>\n",
       "      <td>5.282300e+04</td>\n",
       "      <td>261.0</td>\n",
       "    </tr>\n",
       "    <tr>\n",
       "      <th>166</th>\n",
       "      <td>166</td>\n",
       "      <td>Liechtenstein</td>\n",
       "      <td>3.801900e+04</td>\n",
       "      <td>160.0</td>\n",
       "    </tr>\n",
       "    <tr>\n",
       "      <th>167</th>\n",
       "      <td>167</td>\n",
       "      <td>San Marino</td>\n",
       "      <td>3.386000e+04</td>\n",
       "      <td>61.0</td>\n",
       "    </tr>\n",
       "    <tr>\n",
       "      <th>168</th>\n",
       "      <td>168</td>\n",
       "      <td>Palau</td>\n",
       "      <td>1.800800e+04</td>\n",
       "      <td>459.0</td>\n",
       "    </tr>\n",
       "    <tr>\n",
       "      <th>169</th>\n",
       "      <td>169</td>\n",
       "      <td>World</td>\n",
       "      <td>7.713468e+09</td>\n",
       "      <td>510072000.0</td>\n",
       "    </tr>\n",
       "  </tbody>\n",
       "</table>\n",
       "<p>170 rows × 4 columns</p>\n",
       "</div>"
      ],
      "text/plain": [
       "     Unnamed: 0                country    population         area\n",
       "0             0                  India  1.366418e+09    3287263.0\n",
       "1             1                     US  3.290649e+08    9525067.0\n",
       "2             2              Indonesia  2.706256e+08    1910931.0\n",
       "3             3               Pakistan  2.165653e+08     907132.0\n",
       "4             4                 Brazil  2.110495e+08    8515767.0\n",
       "..          ...                    ...           ...          ...\n",
       "165         165  Saint Kitts and Nevis  5.282300e+04        261.0\n",
       "166         166          Liechtenstein  3.801900e+04        160.0\n",
       "167         167             San Marino  3.386000e+04         61.0\n",
       "168         168                  Palau  1.800800e+04        459.0\n",
       "169         169                  World  7.713468e+09  510072000.0\n",
       "\n",
       "[170 rows x 4 columns]"
      ]
     },
     "execution_count": 277,
     "metadata": {},
     "output_type": "execute_result"
    }
   ],
   "source": [
    "df_world"
   ]
  },
  {
   "cell_type": "code",
   "execution_count": 278,
   "metadata": {},
   "outputs": [],
   "source": [
    "covid_countries_date_df = covid_df.groupby(['Country/Region', 'date'], sort=False).sum().reset_index()\n",
    "covid_ita = covid_countries_date_df[covid_countries_date_df['Country/Region'] == 'Italy']"
   ]
  },
  {
   "cell_type": "code",
   "execution_count": 279,
   "metadata": {},
   "outputs": [
    {
     "data": {
      "text/html": [
       "<div>\n",
       "<style scoped>\n",
       "    .dataframe tbody tr th:only-of-type {\n",
       "        vertical-align: middle;\n",
       "    }\n",
       "\n",
       "    .dataframe tbody tr th {\n",
       "        vertical-align: top;\n",
       "    }\n",
       "\n",
       "    .dataframe thead th {\n",
       "        text-align: right;\n",
       "    }\n",
       "</style>\n",
       "<table border=\"1\" class=\"dataframe\">\n",
       "  <thead>\n",
       "    <tr style=\"text-align: right;\">\n",
       "      <th></th>\n",
       "      <th>Country/Region</th>\n",
       "      <th>date</th>\n",
       "      <th>Lat</th>\n",
       "      <th>Long</th>\n",
       "      <th>confirmed</th>\n",
       "      <th>deaths</th>\n",
       "      <th>recovered</th>\n",
       "      <th>active</th>\n",
       "    </tr>\n",
       "  </thead>\n",
       "  <tbody>\n",
       "    <tr>\n",
       "      <th>77</th>\n",
       "      <td>Italy</td>\n",
       "      <td>1/22/20</td>\n",
       "      <td>43.0</td>\n",
       "      <td>12.0</td>\n",
       "      <td>0</td>\n",
       "      <td>0</td>\n",
       "      <td>0.0</td>\n",
       "      <td>0.0</td>\n",
       "    </tr>\n",
       "    <tr>\n",
       "      <th>258</th>\n",
       "      <td>Italy</td>\n",
       "      <td>1/23/20</td>\n",
       "      <td>43.0</td>\n",
       "      <td>12.0</td>\n",
       "      <td>0</td>\n",
       "      <td>0</td>\n",
       "      <td>0.0</td>\n",
       "      <td>0.0</td>\n",
       "    </tr>\n",
       "    <tr>\n",
       "      <th>439</th>\n",
       "      <td>Italy</td>\n",
       "      <td>1/24/20</td>\n",
       "      <td>43.0</td>\n",
       "      <td>12.0</td>\n",
       "      <td>0</td>\n",
       "      <td>0</td>\n",
       "      <td>0.0</td>\n",
       "      <td>0.0</td>\n",
       "    </tr>\n",
       "    <tr>\n",
       "      <th>620</th>\n",
       "      <td>Italy</td>\n",
       "      <td>1/25/20</td>\n",
       "      <td>43.0</td>\n",
       "      <td>12.0</td>\n",
       "      <td>0</td>\n",
       "      <td>0</td>\n",
       "      <td>0.0</td>\n",
       "      <td>0.0</td>\n",
       "    </tr>\n",
       "    <tr>\n",
       "      <th>801</th>\n",
       "      <td>Italy</td>\n",
       "      <td>1/26/20</td>\n",
       "      <td>43.0</td>\n",
       "      <td>12.0</td>\n",
       "      <td>0</td>\n",
       "      <td>0</td>\n",
       "      <td>0.0</td>\n",
       "      <td>0.0</td>\n",
       "    </tr>\n",
       "    <tr>\n",
       "      <th>...</th>\n",
       "      <td>...</td>\n",
       "      <td>...</td>\n",
       "      <td>...</td>\n",
       "      <td>...</td>\n",
       "      <td>...</td>\n",
       "      <td>...</td>\n",
       "      <td>...</td>\n",
       "      <td>...</td>\n",
       "    </tr>\n",
       "    <tr>\n",
       "      <th>12204</th>\n",
       "      <td>Italy</td>\n",
       "      <td>3/29/20</td>\n",
       "      <td>43.0</td>\n",
       "      <td>12.0</td>\n",
       "      <td>97689</td>\n",
       "      <td>10779</td>\n",
       "      <td>15.0</td>\n",
       "      <td>86895.0</td>\n",
       "    </tr>\n",
       "    <tr>\n",
       "      <th>12385</th>\n",
       "      <td>Italy</td>\n",
       "      <td>3/30/20</td>\n",
       "      <td>43.0</td>\n",
       "      <td>12.0</td>\n",
       "      <td>101739</td>\n",
       "      <td>11591</td>\n",
       "      <td>0.0</td>\n",
       "      <td>0.0</td>\n",
       "    </tr>\n",
       "    <tr>\n",
       "      <th>12566</th>\n",
       "      <td>Italy</td>\n",
       "      <td>3/31/20</td>\n",
       "      <td>43.0</td>\n",
       "      <td>12.0</td>\n",
       "      <td>105792</td>\n",
       "      <td>12428</td>\n",
       "      <td>0.0</td>\n",
       "      <td>0.0</td>\n",
       "    </tr>\n",
       "    <tr>\n",
       "      <th>12747</th>\n",
       "      <td>Italy</td>\n",
       "      <td>4/1/20</td>\n",
       "      <td>43.0</td>\n",
       "      <td>12.0</td>\n",
       "      <td>110574</td>\n",
       "      <td>13155</td>\n",
       "      <td>0.0</td>\n",
       "      <td>0.0</td>\n",
       "    </tr>\n",
       "    <tr>\n",
       "      <th>12928</th>\n",
       "      <td>Italy</td>\n",
       "      <td>4/2/20</td>\n",
       "      <td>43.0</td>\n",
       "      <td>12.0</td>\n",
       "      <td>115242</td>\n",
       "      <td>13915</td>\n",
       "      <td>0.0</td>\n",
       "      <td>0.0</td>\n",
       "    </tr>\n",
       "  </tbody>\n",
       "</table>\n",
       "<p>72 rows × 8 columns</p>\n",
       "</div>"
      ],
      "text/plain": [
       "      Country/Region     date   Lat  Long  confirmed  deaths  recovered  \\\n",
       "77             Italy  1/22/20  43.0  12.0          0       0        0.0   \n",
       "258            Italy  1/23/20  43.0  12.0          0       0        0.0   \n",
       "439            Italy  1/24/20  43.0  12.0          0       0        0.0   \n",
       "620            Italy  1/25/20  43.0  12.0          0       0        0.0   \n",
       "801            Italy  1/26/20  43.0  12.0          0       0        0.0   \n",
       "...              ...      ...   ...   ...        ...     ...        ...   \n",
       "12204          Italy  3/29/20  43.0  12.0      97689   10779       15.0   \n",
       "12385          Italy  3/30/20  43.0  12.0     101739   11591        0.0   \n",
       "12566          Italy  3/31/20  43.0  12.0     105792   12428        0.0   \n",
       "12747          Italy   4/1/20  43.0  12.0     110574   13155        0.0   \n",
       "12928          Italy   4/2/20  43.0  12.0     115242   13915        0.0   \n",
       "\n",
       "        active  \n",
       "77         0.0  \n",
       "258        0.0  \n",
       "439        0.0  \n",
       "620        0.0  \n",
       "801        0.0  \n",
       "...        ...  \n",
       "12204  86895.0  \n",
       "12385      0.0  \n",
       "12566      0.0  \n",
       "12747      0.0  \n",
       "12928      0.0  \n",
       "\n",
       "[72 rows x 8 columns]"
      ]
     },
     "execution_count": 279,
     "metadata": {},
     "output_type": "execute_result"
    }
   ],
   "source": [
    "covid_ita"
   ]
  },
  {
   "cell_type": "markdown",
   "metadata": {},
   "source": [
    "## normalization"
   ]
  },
  {
   "cell_type": "code",
   "execution_count": 280,
   "metadata": {},
   "outputs": [],
   "source": [
    "# pass days to integer\n",
    "t = []\n",
    "d0 = datetime.datetime.strptime(\"1/1/20\", '%m/%d/%y')\n",
    "for d in covid_ita['date']:\n",
    "    elapsed_days = (datetime.datetime.strptime(d, '%m/%d/%y') - d0).days\n",
    "    t.append(elapsed_days)\n",
    "t = np.array(t)"
   ]
  },
  {
   "cell_type": "code",
   "execution_count": 281,
   "metadata": {},
   "outputs": [],
   "source": [
    "lista = ['Argentina', 'Chile', 'Germany', 'Iran', 'Italy']\n",
    "y_all = []\n",
    "t_all = []\n",
    "for pais in lista:\n",
    "    popu = df_world[df_world['country'] == pais]['population'].values[0]\n",
    "    area = df_world[df_world['country'] == pais]['area'].values[0]\n",
    "    covid_pais = covid_countries_date_df[covid_countries_date_df['Country/Region'] == pais]    \n",
    "    z = covid_pais['confirmed']\n",
    "\n",
    "    # time normalization: 100th patient\n",
    "    ind = next(x[0] for x in enumerate(z.values) if x[1] > 100)\n",
    "    patient_100_day = t[ind]\n",
    "    t_pais = t - patient_100_day\n",
    "    \n",
    "    # count normalization: country population\n",
    "    y_pais = covid_pais['confirmed'] #/ popu * 1.e6   \n",
    "    \n",
    "    y_all.append(y_pais)\n",
    "    t_all.append(t_pais)"
   ]
  },
  {
   "cell_type": "code",
   "execution_count": 282,
   "metadata": {},
   "outputs": [
    {
     "data": {
      "image/png": "[encoded data removed]",
      "text/plain": [
       "<Figure size 1152x432 with 1 Axes>"
      ]
     },
     "metadata": {
      "needs_background": "light"
     },
     "output_type": "display_data"
    }
   ],
   "source": [
    "fig, ax = plt.subplots(figsize=(16, 6))\n",
    "ax.set(yscale=\"log\")\n",
    "ax.yaxis.set_major_formatter(ticker.FuncFormatter(lambda y, _: '{:g}'.format(y)))\n",
    "\n",
    "for t, y in zip(t_all, y_all):\n",
    "    sns.lineplot(x=t, y=y, sort=False, linewidth=2)\n",
    "\n",
    "plt.suptitle(\"COVID-19 per country cases over the time\", fontsize=16, fontweight='bold', color='white')\n",
    "plt.title(\"(logarithmic scale)\", color='white')\n",
    "\n",
    "ax.xaxis.set_major_locator(ticker.MultipleLocator(5))\n",
    "plt.xticks(rotation=0)\n",
    "plt.ylabel('Casos confirmados por millón de habitantes')\n",
    "\n",
    "ax.legend(['Argentina', 'España', 'chile', 'ita'])\n",
    "\n",
    "plt.show()"
   ]
  },
  {
   "cell_type": "markdown",
   "metadata": {},
   "source": [
    "## another normalization"
   ]
  },
  {
   "cell_type": "code",
   "execution_count": 283,
   "metadata": {},
   "outputs": [
    {
     "data": {
      "text/plain": [
       "True"
      ]
     },
     "execution_count": 283,
     "metadata": {},
     "output_type": "execute_result"
    }
   ],
   "source": [
    "lst = ['assa''bbbab']\n",
    "any(\"ass\" in s for s in lst)"
   ]
  },
  {
   "cell_type": "code",
   "execution_count": 284,
   "metadata": {},
   "outputs": [],
   "source": [
    "#list(df_world['country'])"
   ]
  },
  {
   "cell_type": "code",
   "execution_count": 285,
   "metadata": {},
   "outputs": [],
   "source": [
    "#list(covid_countries_date_df['Country/Region'])"
   ]
  },
  {
   "cell_type": "code",
   "execution_count": 288,
   "metadata": {},
   "outputs": [
    {
     "data": {
      "text/plain": [
       "True"
      ]
     },
     "execution_count": 288,
     "metadata": {},
     "output_type": "execute_result"
    }
   ],
   "source": [
    "pais = 'South Korea'\n",
    "pais = 'Korea, South'\n",
    "any(pais in s for s in df_world['country'])"
   ]
  },
  {
   "cell_type": "code",
   "execution_count": 289,
   "metadata": {},
   "outputs": [
    {
     "data": {
      "text/plain": [
       "True"
      ]
     },
     "execution_count": 289,
     "metadata": {},
     "output_type": "execute_result"
    }
   ],
   "source": [
    "any(pais in s for s in covid_countries_date_df['Country/Region'])"
   ]
  },
  {
   "cell_type": "code",
   "execution_count": 269,
   "metadata": {},
   "outputs": [
    {
     "name": "stdout",
     "output_type": "stream",
     "text": [
      "Pretty printing has been turned OFF\n"
     ]
    }
   ],
   "source": [
    "%pprint"
   ]
  },
  {
   "cell_type": "code",
   "execution_count": 272,
   "metadata": {},
   "outputs": [],
   "source": [
    "#list(covid_countries_date_df['Country/Region'])"
   ]
  },
  {
   "cell_type": "code",
   "execution_count": 254,
   "metadata": {},
   "outputs": [
    {
     "data": {
      "text/html": [
       "<div>\n",
       "<style scoped>\n",
       "    .dataframe tbody tr th:only-of-type {\n",
       "        vertical-align: middle;\n",
       "    }\n",
       "\n",
       "    .dataframe tbody tr th {\n",
       "        vertical-align: top;\n",
       "    }\n",
       "\n",
       "    .dataframe thead th {\n",
       "        text-align: right;\n",
       "    }\n",
       "</style>\n",
       "<table border=\"1\" class=\"dataframe\">\n",
       "  <thead>\n",
       "    <tr style=\"text-align: right;\">\n",
       "      <th></th>\n",
       "      <th>Unnamed: 0</th>\n",
       "      <th>country</th>\n",
       "      <th>population</th>\n",
       "      <th>area</th>\n",
       "    </tr>\n",
       "  </thead>\n",
       "  <tbody>\n",
       "    <tr>\n",
       "      <th>1</th>\n",
       "      <td>1</td>\n",
       "      <td>US</td>\n",
       "      <td>329064917.0</td>\n",
       "      <td>9525067.0</td>\n",
       "    </tr>\n",
       "  </tbody>\n",
       "</table>\n",
       "</div>"
      ],
      "text/plain": [
       "   Unnamed: 0 country   population       area\n",
       "1           1      US  329064917.0  9525067.0"
      ]
     },
     "execution_count": 254,
     "metadata": {},
     "output_type": "execute_result"
    }
   ],
   "source": [
    "pais = 'US'\n",
    "df_world[df_world['country'] == pais]"
   ]
  },
  {
   "cell_type": "code",
   "execution_count": 295,
   "metadata": {},
   "outputs": [],
   "source": [
    "lista = ['Argentina', 'Chile', 'Germany', 'Iran', 'Italy','US','Japan','Germany','United Kingdom','South Africa','Korea, South','Canada','Venezuela','Israel']\n",
    "\n",
    "y_all = []\n",
    "t_all = []\n",
    "for pais in lista:\n",
    "    popu = df_world[df_world['country'] == pais]['population'].values[0]\n",
    "    area = df_world[df_world['country'] == pais]['area'].values[0]\n",
    "    covid_pais = covid_countries_date_df[covid_countries_date_df['Country/Region'] == pais]\n",
    "    \n",
    "    z = covid_pais['confirmed']\n",
    "    ind = next(x[0] for x in enumerate(z.values) if x[1] > 100)\n",
    "    patient_100_day = t[ind]\n",
    "    t_pais = t - patient_100_day   \n",
    "    y_pais = covid_pais['confirmed'] / popu * 1.e6   \n",
    "    \n",
    "    y_all.append(y_pais)\n",
    "    t_all.append(t_pais)"
   ]
  },
  {
   "cell_type": "code",
   "execution_count": null,
   "metadata": {},
   "outputs": [],
   "source": []
  },
  {
   "cell_type": "code",
   "execution_count": 296,
   "metadata": {},
   "outputs": [
    {
     "data": {
      "image/png": "[encoded data removed]",
      "text/plain": [
       "<Figure size 1152x432 with 1 Axes>"
      ]
     },
     "metadata": {
      "needs_background": "light"
     },
     "output_type": "display_data"
    }
   ],
   "source": [
    "fig, ax = plt.subplots(figsize=(16, 6))\n",
    "ax.set(yscale=\"log\")\n",
    "ax.yaxis.set_major_formatter(ticker.FuncFormatter(lambda y, _: '{:g}'.format(y)))\n",
    "\n",
    "for t, y in zip(t_all, y_all):\n",
    "    sns.lineplot(x=t, y=y, sort=False, linewidth=2)\n",
    "\n",
    "plt.suptitle(\"COVID-19 per country cases over the time\", fontsize=16, fontweight='bold', color='white')\n",
    "plt.title(\"(logarithmic scale)\", color='white')\n",
    "\n",
    "ax.xaxis.set_major_locator(ticker.MultipleLocator(5))\n",
    "plt.xticks(rotation=0)\n",
    "plt.ylabel('Casos confirmados por millón de habitantes')\n",
    "\n",
    "ax.legend(['Argentina', 'España', 'chile', 'ita'])\n",
    "\n",
    "plt.show()"
   ]
  },
  {
   "cell_type": "code",
   "execution_count": null,
   "metadata": {},
   "outputs": [],
   "source": []
  },
  {
   "cell_type": "code",
   "execution_count": null,
   "metadata": {},
   "outputs": [],
   "source": []
  }
 ],
 "metadata": {
  "kernelspec": {
   "display_name": "Python 3",
   "language": "python",
   "name": "python3"
  },
  "language_info": {
   "codemirror_mode": {
    "name": "ipython",
    "version": 3
   },
   "file_extension": ".py",
   "mimetype": "text/x-python",
   "name": "python",
   "nbconvert_exporter": "python",
   "pygments_lexer": "ipython3",
   "version": "3.7.3"
  }
 },
 "nbformat": 4,
 "nbformat_minor": 4
}
